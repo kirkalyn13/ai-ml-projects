{
  "cells": [
    {
      "cell_type": "code",
      "execution_count": 5,
      "metadata": {
        "id": "mE-iTL7-jeuW"
      },
      "outputs": [],
      "source": [
        "import tensorflow as tf\n",
        "from tensorflow.keras.preprocessing.sequence import pad_sequences\n",
        "from tensorflow.keras.layers import Embedding, LSTM, Dense, Bidirectional\n",
        "from tensorflow.keras.preprocessing.text import Tokenizer\n",
        "from tensorflow.keras.models import Sequential\n",
        "from tensorflow.keras.optimizers import Adam\n",
        "from tensorflow.keras.callbacks import EarlyStopping\n",
        "import numpy as np\n",
        "import matplotlib.pyplot as plt"
      ]
    },
    {
      "cell_type": "code",
      "execution_count": 3,
      "metadata": {
        "colab": {
          "base_uri": "https://localhost:8080/"
        },
        "id": "FywHqNoMjnWg",
        "outputId": "e27539e0-3b68-489f-fa54-3c54af882edf"
      },
      "outputs": [
        {
          "output_type": "stream",
          "name": "stdout",
          "text": [
            "{'the': 1, 'of': 2, 'and': 3, 'in': 4, 'to': 5, 'a': 6, 'with': 7, 'is': 8, 'disease': 9, 'for': 10, 'as': 11, 'can': 12, 'may': 13, 'patients': 14, 'are': 15, 'be': 16, 'at': 17, 'flu': 18, 'risk': 19, 'insulin': 20, 'symptoms': 21, 'mps': 22, 'or': 23, 'complications': 24, 'that': 25, '1': 26, 'fabry': 27, 'i': 28, 'years': 29, 'an': 30, 'by': 31, 'rsv': 32, 'it': 33, 'related': 34, 'children': 35, 'diabetes': 36, 'this': 37, 'diagnosis': 38, 'from': 39, 'levels': 40, 'blood': 41, 'these': 42, 'which': 43, 'condition': 44, 'cells': 45, 'also': 46, 'increased': 47, 'more': 48, 'type': 49, 'glucose': 50, 'such': 51, 'common': 52, 'serious': 53, 'leading': 54, 'life': 55, 'other': 56, 'treatment': 57, 'attp': 58, 'pompe': 59, 'between': 60, 'some': 61, 'time': 62, 'result': 63, 'immune': 64, 'deficiency': 65, 'if': 66, 'age': 67, 'infants': 68, '3': 69, 'season': 70, 'before': 71, 'cause': 72, 'sugar': 73, 'system': 74, 'lead': 75, 'potentially': 76, 'respiratory': 77, 'enzyme': 78, 'conditions': 79, 'chronic': 80, 'known': 81, 'damage': 82, 'diabetic': 83, 'high': 84, 'most': 85, 'often': 86, 'include': 87, 'mortality': 88, 'early': 89, 'where': 90, 'when': 91, 'one': 92, 'born': 93, 'while': 94, 'analysis': 95, 'including': 96, 'on': 97, 'beta': 98, 'production': 99, 'glycogen': 100, 'accumulation': 101, 'heart': 102, 'usually': 103, 'cases': 104, 'cell': 105, '000': 106, 'pneumonia': 107, 'all': 108, 'many': 109, 'progressive': 110, 'people': 111, 'males': 112, 'α': 113, 'gal': 114, 'have': 115, 'among': 116, 'aged': 117, 'under': 118, 'infections': 119, 'research': 120, 'infant': 121, 'those': 122, 'causes': 123, 'like': 124, 'its': 125, 'health': 126, 'associated': 127, 'genetic': 128, 'over': 129, 'affects': 130, 'help': 131, 'need': 132, 'breathing': 133, 'out': 134, 'occur': 135, 'within': 136, '–': 137, 'adults': 138, 'onset': 139, 'disorder': 140, 'gene': 141, 'lysosomal': 142, 'average': 143, 'females': 144, 'signs': 145, 'childhood': 146, 'renal': 147, 'leads': 148, 'gl': 149, 'particularly': 150, 'due': 151, 'who': 152, 'should': 153, 'increase': 154, 'study': 155, 'hospitalized': 156, 'months': 157, 'no': 158, 'underlying': 159, 'certain': 160, 'times': 161, 'start': 162, 'virus': 163, 'than': 164, 'during': 165, 'however': 166, 'number': 167, 'others': 168, 'making': 169, 'factor': 170, 'viii': 171, 'joint': 172, 'bleeds': 173, 'medical': 174, 'body': 175, 'essential': 176, 'energy': 177, 'through': 178, 'caused': 179, 'kidney': 180, 'threatening': 181, 'hormones': 182, 'management': 183, 'function': 184, 'therapy': 185, 'metabolic': 186, 'there': 187, 'lower': 188, '6': 189, 'causing': 190, 'difficult': 191, 'severe': 192, 'any': 193, 'make': 194, 'rule': 195, 'approximately': 196, 'suspected': 197, 'specialist': 198, 'adamts13': 199, 'assay': 200, 'used': 201, 'present': 202, 'spectrum': 203, 'different': 204, 'inherited': 205, 'muscle': 206, 'prevalence': 207, 'death': 208, 'types': 209, 'wait': 210, 'they': 211, 'testing': 212, 'urinary': 213, 'molecular': 214, 'surgeries': 215, 'compared': 216, 'carpal': 217, 'tunnel': 218, 'syndrome': 219, 'around': 220, 'gaucher': 221, 'influenza': 222, 'recovery': 223, 'hospitalisation': 224, 'dysfunction': 225, 'vaccination': 226, 'according': 227, 'data': 228, 'reported': 229, 'year': 230, '7': 231, 'roughly': 232, 'earlier': 233, '8': 234, 'will': 235, 'better': 236, 'less': 237, 'vs': 238, '9': 239, 'cold': 240, 'progress': 241, 'hospitalization': 242, 'shown': 243, '5': 244, '40': 245, 'hemophilia': 246, 'vulnerable': 247, 'regulation': 248, 'bloodstream': 249, 'into': 250, 'regulating': 251, 'allow': 252, 'left': 253, 'unmanaged': 254, 'vessels': 255, 'pain': 256, 'failure': 257, 'destruction': 258, 'environmental': 259, 'autoimmune': 260, 'complex': 261, 'occurs': 262, 'made': 263, 'absence': 264, 'begins': 265, 'ketoacidosis': 266, 'additionally': 267, 'glucagon': 268, 'interplay': 269, 'hypoglycemic': 270, 'too': 271, 'low': 272, 'hormonal': 273, 'involves': 274, 'exogenous': 275, 'mimic': 276, 'natural': 277, 'multiple': 278, 'continuous': 279, 'monitoring': 280, 'systems': 281, 'provide': 282, 'moreover': 283, 'lifestyle': 284, 'regular': 285, 'imbalances': 286, 'improving': 287, 'greater': 288, 'being': 289, 'transplantation': 290, 'stage': 291, 'therapies': 292, 'prevent': 293, 'challenges': 294, 'comprehensive': 295, 'approach': 296, 'could': 297, 'quality': 298, 'development': 299, 'remains': 300, 'higher': 301, 'bleed': 302, 'protection': 303, 'normal': 304, 'activity': 305, 'deaths': 306, 'five': 307, 'infected': 308, 'tract': 309, 'lungs': 310, 'thrombotic': 311, 'late': 312, 'simple': 313, 'film': 314, 'pex': 315, 'ims': 316, 'fatal': 317, '24': 318, 'hours': 319, 'patient': 320, 'alone': 321, 'specialised': 322, 'diseases': 323, 'centre': 324, 'confirm': 325, 'initiate': 326, 'definitive': 327, 'confirmed': 328, 'results': 329, 'not': 330, 'commonly': 331, 'broad': 332, 'clinical': 333, 'acid': 334, 'storage': 335, 'ii': 336, 'irreversible': 337, 'estimates': 338, 'range': 339, 'affected': 340, 'estimated': 341, 'located': 342, 'chromosome': 343, '17': 344, 'alpha': 345, 'gaa': 346, 'lysosomes': 347, 'complete': 348, 'intra': 349, 'primarily': 350, 'both': 351, '14': 352, '19': 353, 'x': 354, 'men': 355, 'women': 356, 'classical': 357, 'non': 358, 'typically': 359, 'brain': 360, 'angiokeratomas': 361, 'stroke': 362, 'cardiac': 363, 'premature': 364, 'absent': 365, 'classic': 366, 'manifestations': 367, 'history': 368, 'mutations': 369, 'patient’s': 370, 'diagnose': 371, 'frequently': 372, 'see': 373, 'specialists': 374, 'you': 375, 'don’t': 376, 'slow': 377, 'glycosaminoglycan': 378, 'ugag': 379, 'test': 380, 'specific': 381, 'follow': 382, 'up': 383, 'multidisciplinary': 384, 'team': 385, 'because': 386, 'operations': 387, 'general': 388, 'population': 389, 'weakened': 390, 'deformities': 391, 'require': 392, 'spinal': 393, 'third': 394, 'existing': 395, 'limit': 396, 'medicines': 397, 'given': 398, 'treat': 399, 'longer': 400, 'morbidity': 401, 'ckd': 402, 'accompanies': 403, 'liver': 404, 'neurological': 405, 'example': 406, 'immunosuppressed': 407, 'pediatric': 408, 'hospitalizations': 409, '1997': 410, '2000': 411, 'surveillance': 412, 'october': 413, '2014': 414, 'april': 415, '2015': 416, '176': 417, '12': 418, '851': 419, 'had': 420, 'prematurity': 421, 'was': 422, 'classified': 423, 'seasonal': 424, 'peaking': 425, 'throughout': 426, 'typical': 427, 'runs': 428, 'november': 429, 'march': 430, 'exceptions': 431, 'florida': 432, 'epidemiology': 433, 'further': 434, 'define': 435, 'local': 436, 'seasons': 437, 'misperception': 438, 'protected': 439, 'against': 440, 'exposed': 441, 'equal': 442, 'wfh': 443, 'guidelines': 444, '\\xa0along': 445, 'retrospective': 446, '†\\xa0have': 447, 'mild': 448, 'traumatic': 449, 'surgical': 450, 'subclinical': 451, 'characterized': 452, \"system's\": 453, 'attack': 454, 'pancreatic': 455, 'primary': 456, 'source': 457, 'metabolism': 458, 'facilitating': 459, 'transport': 460, 'pancreas': 461, 'plays': 462, 'pivotal': 463, 'role': 464, 'acts': 465, 'key': 466, 'unlocking': 467, 'cellular': 468, 'receptors': 469, 'enter': 470, 'utilized': 471, 'stored': 472, 'mistakenly': 473, 'targets': 474, 'destroys': 475, 'producing': 476, 'hormone': 477, 'hyperglycemia': 478, 'cascade': 479, 'issues': 480, 'uncontrolled': 481, 'retinopathy': 482, 'retina': 483, 'resulting': 484, 'blindness': 485, 'contribute': 486, 'buildup': 487, 'plaques': 488, 'increasing': 489, 'coronary': 490, 'artery': 491, 'attacks': 492, 'strokes': 493, 'neuropathy': 494, 'form': 495, 'nerve': 496, 'excessive': 497, 'numbness': 498, 'tingling': 499, 'weakness': 500, 'hands': 501, 'feet': 502, 'delicate': 503, 'filtering': 504, 'kidneys': 505, 'nephropathy': 506, 'predispositions': 507, 'triggered': 508, 'factors': 509, 'viral': 510, 'exact': 511, 'mechanisms': 512, 'behind': 513, 'response': 514, 'involve': 515, 'interactions': 516, 'susceptibility': 517, 'triggers': 518, 'process': 519, 'become': 520, 'apparent': 521, 'use': 522, 'alternative': 523, 'sources': 524, 'ketones': 525, 'balance': 526, 'works': 527, 'opposition': 528, 'raising': 529, 'counter': 530, 'regulatory': 531, 'cortisol': 532, 'adrenaline': 533, 'crucial': 534, 'especially': 535, 'events': 536, 'drop': 537, 'raise': 538, 'promoting': 539, 'breakdown': 540, 'gluconeogenesis': 541, 'multifaceted': 542, 'cornerstone': 543, 'administering': 544, \"body's\": 545, 'pattern': 546, 'achieved': 547, 'daily': 548, 'injections': 549, 'pump': 550, 'cgm': 551, 'real': 552, 'readings': 553, 'allowing': 554, 'precise': 555, 'dosing': 556, 'detection': 557, 'hyper': 558, 'episodes': 559, 'modifications': 560, 'balanced': 561, 'diet': 562, 'exercise': 563, 'glycemic': 564, 'control': 565, 'overall': 566, 'interventions': 567, 'mitigate': 568, 'reduce': 569, 'landscape': 570, 'continuously': 571, 'evolving': 572, 'focusing': 573, 'formulations': 574, 'efficacy': 575, 'convenience': 576, 'innovations': 577, 'faster': 578, 'acting': 579, 'insulins': 580, 'analogs': 581, 'closely': 582, 'physiological': 583, 'release': 584, 'developed': 585, 'quest': 586, 'restore': 587, 'endogenous': 588, 'scientists': 589, 'investigating': 590, 'regeneration': 591, 'islet': 592, 'still': 593, 'experimental': 594, 'approaches': 595, 'show': 596, 'promise': 597, 'reducing': 598, 'eliminating': 599, 'emerging': 600, 'targeting': 601, 'aim': 602, 'halting': 603, 'progression': 604, 'preventing': 605, 'altogether': 606, 'presents': 607, 'significant': 608, 'requires': 609, 'adaptations': 610, 'ongoing': 611, 'advancements': 612, 'hope': 613, 'innovative': 614, 'treatments': 615, 'improve': 616, 'ultimately': 617, 'cure': 618, 'dedication': 619, 'field': 620, 'critical': 621, 'promising': 622, 'future': 623, 'burdens': 624, 'significantly': 625, 'alleviated': 626, 'ability': 627, 'perform': 628, 'activities': 629, 'closer': 630, 'likely': 631, 'to\\xa0experience': 632, '58': 633, 'hospitalisations': 634, '100': 635, '500': 636, 'younder': 637, 'old': 638, 'droplets': 639, 'containing': 640, 'contact': 641, 'enters': 642, 'infant’s': 643, 'nasopharynx': 644, 'manifestation': 645, 'point': 646, 'nasopharyngeal': 647, 'sloughed': 648, 'aspirated': 649, 'carrying': 650, 'congestion': 651, 'runny': 652, 'nose': 653, 'fever': 654, 'irritability': 655, 'poor': 656, 'feeding': 657, 'days': 658, 'epithelial': 659, 'travel': 660, 'deeper': 661, \"infant's\": 662, 'infecting': 663, 'bronchioles': 664, 'alveoli': 665, 'bronchiolitis': 666, '10': 667, 'cough': 668, 'excess': 669, 'phlegm': 670, 'rapid': 671, 'wheezing': 672, 'grunting': 673, 'noises': 674, 'nasal': 675, 'flaring': 676, 'abnormal': 677, 'chest': 678, 'movement': 679, 'unpredictable': 680, 'their': 681, 'first': 682, 'that’s': 683, 'why': 684, 'connection': 685, 'acquired': 686, 'thrombocytopenic': 687, 'purpura': 688, 'unexplained': 689, 'anaemia': 690, 'thrombocytopenia': 691, 'microangiopathies': 692, 'tmas': 693, 'remain': 694, 'despite': 695, 'plasma': 696, 'exchange': 697, 'immunosupression': 698, 'untreated': 699, 'rapidly': 700, 'acute': 701, 'rate': 702, '90': 703, 'half': 704, 'presentation': 705, 'survival': 706, 'rates': 707, 'improved': 708, 'treated': 709, '8–20': 710, 'performing': 711, 'check': 712, 'presence': 713, 'fragmented': 714, 'erythrocytes': 715, 'schistocytes': 716, 'confirms': 717, 'assessment': 718, 'required': 719, 'save': 720, 'mistaken': 721, 'your': 722, 'differential': 723, 'refer': 724, 'using': 725, 'available': 726, 'the\\xa0plasmic': 727, 'score\\xa0or\\xa0french': 728, 'score\\xa0can': 729, 'aid': 730, 'decision': 731, '‘predicting’': 732, 'only': 733, 'musculoskeletal': 734, 'muscles': 735, 'phenotypes': 736, 'ages': 737, 'infantile': 738, 'iopd': 739, 'lopd': 740, 'maltase': 741, 'gsd': 742, 'limiting': 743, 'neuromuscular': 744, 'incidence': 745, '33': 746, '333': 747, '138': 748, 'know': 749, 'exactly': 750, 'how': 751, 'actually': 752, 'current': 753, 'worldwide': 754, '57000': 755, 'encodes': 756, 'glucosidase': 757, 'responsible': 758, 'breaking': 759, 'down': 760, 'inside': 761, 'mutation': 762, 'autosomal': 763, 'recessive': 764, 'two': 765, 'faulty': 766, 'genes': 767, 'must': 768, 'parents': 769, 'person': 770, 'develop': 771, '57': 772, 'uk': 773, 'linked': 774, 'ethnicities': 775, 'newborn': 776, 'screening': 777, 'found': 778, '4': 779, '600': 780, 'were': 781, 'unknown': 782, 'multisystemic': 783, 'adolescence': 784, 'gastrointestinal': 785, 'disturbances': 786, 'hypohidrosis': 787, 'proteinuria': 788, 'progresses': 789, 'deterioration': 790, 'hypertrophic': 791, 'cardiomyopathy': 792, 'developing': 793, 'end': 794, 'fibrosis': 795, 'arrhythmias': 796, 'increases': 797, 'multi': 798, 'systemic': 799, 'mainly': 800, 'vascular': 801, 'patho': 802, 'physiologic': 803, 'findings': 804, 'nervous': 805, 'organ': 806, 'completely': 807, 'reaching': 808, 'challenging': 809, 'equally': 810, 'manifest': 811, 'points': 812, 'acroparesthesia': 813, 'cornea': 814, 'verticillata': 815, 'very': 816, 'observed': 817, 'going\\xa0undiagnosed\\xa0for': 818, 'long': 819, 'as\\xa011': 820, 'years\\xa0due': 821, 'rarity': 822, 'well': 823, 'variability': 824, 'symptom': 825, '13': 826, '\\xa0to': 827, 'reach': 828, 'then': 829, 'take': 830, 'undiagnosed': 831, 'reduces': 832, 'expectancy': 833, '15': 834, '20': 835, 'gla': 836, 'defects': 837, 'synthesis': 838, 'galactosidase': 839, 'metabolises': 840, 'globotriaosylceramide': 841, 'gb3': 842, 'prevents': 843, 'accumulating': 844, 'partial': 845, 'glycosphingolipids': 846, 'numerous': 847, 'utero': 848, 'continues': 849, 'lifetime': 850, 'advancing': 851, 'microvasculature': 852, 'demise': 853, 'fourth': 854, 'fifth': 855, 'decade': 856, 'residual': 857, 'combination': 858, 'dna': 859, 'working': 860, 'outside': 861, 'centres': 862, 'come': 863, 'across': 864, 'infrequently': 865, 'therefore': 866, 'index': 867, 'suspicion': 868, 'variable': 869, 'severity': 870, 'phenotype': 871, 'misdiagnosed': 872, 'diagnosed': 873, 'referrals': 874, 'specialities': 875, 'receiving': 876, 'accurate': 877, 'easily': 878, 'recognised': 879, 'particular': 880, 'collaboration': 881, 'amongst': 882, 'specialties': 883, 'connect': 884, 'hasten': 885, 'share': 886, 'paediatricians': 887, 'good': 888, 'position': 889, 'recognise': 890, 'red': 891, 'flags': 892, 'able': 893, 'review': 894, 'repeat': 895, 'visits': 896, 'complaints': 897, 'suspect': 898, 'diagnostic': 899, 'done': 900, 'without': 901, 'delay': 902, 'minimise': 903, 'profoundly': 904, 'affect': 905, 'optimal': 906, 'care': 907, 'support': 908, 'experienced': 909, 'replacement': 910, 'haemotopoietic': 911, 'stem': 912, 'undergo': 913, 'shows': 914, 'abnormally': 915, 'gags': 916, 'referred': 917, 'referral': 918, 'geneticist': 919, 'identifies': 920, 'abnormalities': 921, 'coding': 922, 'managed': 923, 'nonspecific': 924, 'nature': 925, 'having': 926, 'several': 927, 'apparently': 928, 'unrelated': 929, 'receive': 930, 'inguinal': 931, 'performed': 932, 'older': 933, 'abdominal': 934, 'pressure': 935, 'hepatosplenomegaly': 936, 'connective': 937, 'tissue': 938, 'skeletal': 939, 'evaluation': 940, 'surgery': 941, 'cord': 942, 'compression': 943, 'stiffness': 944, 'contractures': 945, 'arthropathy': 946, 'hip': 947, 'dysplasia': 948, 'knock': 949, 'knees': 950, 'claw': 951, 'deformity': 952, 'trigger': 953, 'digits': 954, 'myringotomies': 955, 'adenoidectomy': 956, 'tonsillectomy': 957, 'procedures': 958, 'tend': 959, 'adolescents': 960, 'top': 961, 'frequent': 962, 'attenuated': 963, 'forms': 964, 'piece': 965, 'together': 966, 'indicative': 967, 'request': 968, 'gag': 969, 'look': 970, 'similar': 971, 'haematological': 972, 'malignancies': 973, 'considering': 974, 'malignancy': 975, 'has': 976, 'been': 977, 'ruled': 978, 'think': 979, 'what': 980, 'burden': 981, '65': 982, '3\\xa0in': 983, 'permanent': 984, 'disability': 985, 'worse': 986, 'putting': 987, 'extra': 988, 'strain': 989, 'considerable': 990, 'healthy': 991, '12\\xa0chronic': 992, 'worsen': 993, 'difficulty': 994, 'temperature': 995, 'studies': 996, 'relapse': 997, 'sclerosis': 998, 'weeks': 999, 'hyperglycaemic': 1000, 'hyperosmolar': 1001, 'ketotic': 1002, 'coma': 1003, 'managing': 1004, 'patients’': 1005, 'unusual': 1006, 'rhabdomyolysis': 1007, 'myocarditis': 1008, 'asplenia': 1009, 'dysfunctional': 1010, 'spleen': 1011, 'sickle': 1012, 'coeliac': 1013, 'impaired': 1014, 'recommended': 1015, '2': 1016, 'vaccinated': 1017, 'group': 1018, 'dehydration': 1019, 'sinus': 1020, 'problems': 1021, 'part': 1022, 'helping': 1023, 'protect': 1024, 'communities': 1025, 'learn': 1026, 'about': 1027, 'our': 1028, 'podcast': 1029, 'circle': 1030, 'each': 1031, 'episode': 1032, 'we': 1033, 'explore': 1034, 'new': 1035, 'topic': 1036}\n",
            "1037\n"
          ]
        }
      ],
      "source": [
        "tokenizer = Tokenizer()\n",
        "\n",
        "data = open('content.txt').read()\n",
        "corpus = list(filter(None, data.lower().replace(\".\",\"\\n\").split(\"\\n\")))\n",
        "\n",
        "tokenizer.fit_on_texts(corpus)\n",
        "total_words = len(tokenizer.word_index) + 1\n",
        "\n",
        "print(tokenizer.word_index)\n",
        "print(total_words)"
      ]
    },
    {
      "cell_type": "code",
      "execution_count": 4,
      "metadata": {
        "id": "SLrnADenjw2u"
      },
      "outputs": [],
      "source": [
        "input_sequences = []\n",
        "for line in corpus:\n",
        "\ttoken_list = tokenizer.texts_to_sequences([line])[0]\n",
        "\tfor i in range(1, len(token_list)):\n",
        "\t\tn_gram_sequence = token_list[:i+1]\n",
        "\t\tinput_sequences.append(n_gram_sequence)\n",
        "\n",
        "# pad sequences\n",
        "max_sequence_len = max([len(x) for x in input_sequences])\n",
        "input_sequences = np.array(pad_sequences(input_sequences, maxlen=max_sequence_len, padding='pre'))\n",
        "\n",
        "# create predictors and label\n",
        "xs, labels = input_sequences[:,:-1],input_sequences[:,-1]\n",
        "\n",
        "ys = tf.keras.utils.to_categorical(labels, num_classes=total_words)"
      ]
    },
    {
      "cell_type": "code",
      "execution_count": 8,
      "metadata": {
        "colab": {
          "base_uri": "https://localhost:8080/"
        },
        "id": "vOPIH6Hbj0t4",
        "outputId": "3b875431-c042-4077-eab1-846aee86c495"
      },
      "outputs": [
        {
          "output_type": "stream",
          "name": "stdout",
          "text": [
            "Epoch 1/100\n",
            "\u001b[1m96/96\u001b[0m \u001b[32m━━━━━━━━━━━━━━━━━━━━\u001b[0m\u001b[37m\u001b[0m \u001b[1m24s\u001b[0m 200ms/step - accuracy: 0.0290 - loss: 6.5113\n",
            "Epoch 2/100\n"
          ]
        },
        {
          "output_type": "stream",
          "name": "stderr",
          "text": [
            "/usr/local/lib/python3.11/dist-packages/keras/src/callbacks/early_stopping.py:155: UserWarning: Early stopping conditioned on metric `val_loss` which is not available. Available metrics are: accuracy,loss\n",
            "  current = self.get_monitor_value(logs)\n"
          ]
        },
        {
          "output_type": "stream",
          "name": "stdout",
          "text": [
            "\u001b[1m96/96\u001b[0m \u001b[32m━━━━━━━━━━━━━━━━━━━━\u001b[0m\u001b[37m\u001b[0m \u001b[1m18s\u001b[0m 184ms/step - accuracy: 0.1265 - loss: 5.1966\n",
            "Epoch 3/100\n",
            "\u001b[1m96/96\u001b[0m \u001b[32m━━━━━━━━━━━━━━━━━━━━\u001b[0m\u001b[37m\u001b[0m \u001b[1m22s\u001b[0m 202ms/step - accuracy: 0.2787 - loss: 3.7984\n",
            "Epoch 4/100\n",
            "\u001b[1m96/96\u001b[0m \u001b[32m━━━━━━━━━━━━━━━━━━━━\u001b[0m\u001b[37m\u001b[0m \u001b[1m18s\u001b[0m 189ms/step - accuracy: 0.5003 - loss: 2.4045\n",
            "Epoch 5/100\n",
            "\u001b[1m96/96\u001b[0m \u001b[32m━━━━━━━━━━━━━━━━━━━━\u001b[0m\u001b[37m\u001b[0m \u001b[1m21s\u001b[0m 190ms/step - accuracy: 0.6622 - loss: 1.4606\n",
            "Epoch 6/100\n",
            "\u001b[1m96/96\u001b[0m \u001b[32m━━━━━━━━━━━━━━━━━━━━\u001b[0m\u001b[37m\u001b[0m \u001b[1m20s\u001b[0m 181ms/step - accuracy: 0.7786 - loss: 0.8833\n",
            "Epoch 7/100\n",
            "\u001b[1m96/96\u001b[0m \u001b[32m━━━━━━━━━━━━━━━━━━━━\u001b[0m\u001b[37m\u001b[0m \u001b[1m22s\u001b[0m 198ms/step - accuracy: 0.8815 - loss: 0.5237\n",
            "Epoch 8/100\n",
            "\u001b[1m96/96\u001b[0m \u001b[32m━━━━━━━━━━━━━━━━━━━━\u001b[0m\u001b[37m\u001b[0m \u001b[1m21s\u001b[0m 219ms/step - accuracy: 0.9224 - loss: 0.3264\n",
            "Epoch 9/100\n",
            "\u001b[1m96/96\u001b[0m \u001b[32m━━━━━━━━━━━━━━━━━━━━\u001b[0m\u001b[37m\u001b[0m \u001b[1m18s\u001b[0m 189ms/step - accuracy: 0.9341 - loss: 0.2670\n",
            "Epoch 10/100\n",
            "\u001b[1m96/96\u001b[0m \u001b[32m━━━━━━━━━━━━━━━━━━━━\u001b[0m\u001b[37m\u001b[0m \u001b[1m21s\u001b[0m 198ms/step - accuracy: 0.9588 - loss: 0.1652\n",
            "Epoch 11/100\n",
            "\u001b[1m96/96\u001b[0m \u001b[32m━━━━━━━━━━━━━━━━━━━━\u001b[0m\u001b[37m\u001b[0m \u001b[1m19s\u001b[0m 187ms/step - accuracy: 0.9624 - loss: 0.1446\n",
            "Epoch 12/100\n",
            "\u001b[1m96/96\u001b[0m \u001b[32m━━━━━━━━━━━━━━━━━━━━\u001b[0m\u001b[37m\u001b[0m \u001b[1m21s\u001b[0m 191ms/step - accuracy: 0.9612 - loss: 0.1190\n",
            "Epoch 13/100\n",
            "\u001b[1m96/96\u001b[0m \u001b[32m━━━━━━━━━━━━━━━━━━━━\u001b[0m\u001b[37m\u001b[0m \u001b[1m20s\u001b[0m 183ms/step - accuracy: 0.9673 - loss: 0.1184\n",
            "Epoch 14/100\n",
            "\u001b[1m96/96\u001b[0m \u001b[32m━━━━━━━━━━━━━━━━━━━━\u001b[0m\u001b[37m\u001b[0m \u001b[1m21s\u001b[0m 185ms/step - accuracy: 0.9642 - loss: 0.1112\n",
            "Epoch 15/100\n",
            "\u001b[1m96/96\u001b[0m \u001b[32m━━━━━━━━━━━━━━━━━━━━\u001b[0m\u001b[37m\u001b[0m \u001b[1m21s\u001b[0m 192ms/step - accuracy: 0.9699 - loss: 0.0968\n",
            "Epoch 16/100\n",
            "\u001b[1m96/96\u001b[0m \u001b[32m━━━━━━━━━━━━━━━━━━━━\u001b[0m\u001b[37m\u001b[0m \u001b[1m20s\u001b[0m 185ms/step - accuracy: 0.9693 - loss: 0.0922\n",
            "Epoch 17/100\n",
            "\u001b[1m96/96\u001b[0m \u001b[32m━━━━━━━━━━━━━━━━━━━━\u001b[0m\u001b[37m\u001b[0m \u001b[1m18s\u001b[0m 188ms/step - accuracy: 0.9612 - loss: 0.1133\n",
            "Epoch 18/100\n",
            "\u001b[1m96/96\u001b[0m \u001b[32m━━━━━━━━━━━━━━━━━━━━\u001b[0m\u001b[37m\u001b[0m \u001b[1m20s\u001b[0m 188ms/step - accuracy: 0.9664 - loss: 0.0932\n",
            "Epoch 19/100\n",
            "\u001b[1m96/96\u001b[0m \u001b[32m━━━━━━━━━━━━━━━━━━━━\u001b[0m\u001b[37m\u001b[0m \u001b[1m18s\u001b[0m 192ms/step - accuracy: 0.9691 - loss: 0.0841\n",
            "Epoch 20/100\n",
            "\u001b[1m96/96\u001b[0m \u001b[32m━━━━━━━━━━━━━━━━━━━━\u001b[0m\u001b[37m\u001b[0m \u001b[1m20s\u001b[0m 191ms/step - accuracy: 0.9716 - loss: 0.0804\n",
            "Epoch 21/100\n",
            "\u001b[1m96/96\u001b[0m \u001b[32m━━━━━━━━━━━━━━━━━━━━\u001b[0m\u001b[37m\u001b[0m \u001b[1m21s\u001b[0m 194ms/step - accuracy: 0.9652 - loss: 0.1003\n",
            "Epoch 22/100\n",
            "\u001b[1m96/96\u001b[0m \u001b[32m━━━━━━━━━━━━━━━━━━━━\u001b[0m\u001b[37m\u001b[0m \u001b[1m20s\u001b[0m 187ms/step - accuracy: 0.9668 - loss: 0.0947\n",
            "Epoch 23/100\n",
            "\u001b[1m96/96\u001b[0m \u001b[32m━━━━━━━━━━━━━━━━━━━━\u001b[0m\u001b[37m\u001b[0m \u001b[1m18s\u001b[0m 188ms/step - accuracy: 0.9702 - loss: 0.0912\n",
            "Epoch 24/100\n",
            "\u001b[1m96/96\u001b[0m \u001b[32m━━━━━━━━━━━━━━━━━━━━\u001b[0m\u001b[37m\u001b[0m \u001b[1m20s\u001b[0m 185ms/step - accuracy: 0.9674 - loss: 0.1035\n",
            "Epoch 25/100\n",
            "\u001b[1m96/96\u001b[0m \u001b[32m━━━━━━━━━━━━━━━━━━━━\u001b[0m\u001b[37m\u001b[0m \u001b[1m21s\u001b[0m 195ms/step - accuracy: 0.9656 - loss: 0.1184\n",
            "Epoch 26/100\n",
            "\u001b[1m96/96\u001b[0m \u001b[32m━━━━━━━━━━━━━━━━━━━━\u001b[0m\u001b[37m\u001b[0m \u001b[1m20s\u001b[0m 186ms/step - accuracy: 0.9572 - loss: 0.1757\n",
            "Epoch 27/100\n",
            "\u001b[1m96/96\u001b[0m \u001b[32m━━━━━━━━━━━━━━━━━━━━\u001b[0m\u001b[37m\u001b[0m \u001b[1m18s\u001b[0m 186ms/step - accuracy: 0.5448 - loss: 1.9695\n",
            "Epoch 28/100\n",
            "\u001b[1m96/96\u001b[0m \u001b[32m━━━━━━━━━━━━━━━━━━━━\u001b[0m\u001b[37m\u001b[0m \u001b[1m21s\u001b[0m 189ms/step - accuracy: 0.4441 - loss: 2.5616\n",
            "Epoch 29/100\n",
            "\u001b[1m96/96\u001b[0m \u001b[32m━━━━━━━━━━━━━━━━━━━━\u001b[0m\u001b[37m\u001b[0m \u001b[1m21s\u001b[0m 200ms/step - accuracy: 0.6605 - loss: 1.3884\n",
            "Epoch 30/100\n",
            "\u001b[1m96/96\u001b[0m \u001b[32m━━━━━━━━━━━━━━━━━━━━\u001b[0m\u001b[37m\u001b[0m \u001b[1m19s\u001b[0m 184ms/step - accuracy: 0.7992 - loss: 0.7356\n",
            "Epoch 31/100\n",
            "\u001b[1m96/96\u001b[0m \u001b[32m━━━━━━━━━━━━━━━━━━━━\u001b[0m\u001b[37m\u001b[0m \u001b[1m22s\u001b[0m 202ms/step - accuracy: 0.9002 - loss: 0.3882\n",
            "Epoch 32/100\n",
            "\u001b[1m96/96\u001b[0m \u001b[32m━━━━━━━━━━━━━━━━━━━━\u001b[0m\u001b[37m\u001b[0m \u001b[1m19s\u001b[0m 187ms/step - accuracy: 0.9475 - loss: 0.2130\n",
            "Epoch 33/100\n",
            "\u001b[1m96/96\u001b[0m \u001b[32m━━━━━━━━━━━━━━━━━━━━\u001b[0m\u001b[37m\u001b[0m \u001b[1m18s\u001b[0m 187ms/step - accuracy: 0.9538 - loss: 0.1735\n",
            "Epoch 34/100\n",
            "\u001b[1m96/96\u001b[0m \u001b[32m━━━━━━━━━━━━━━━━━━━━\u001b[0m\u001b[37m\u001b[0m \u001b[1m20s\u001b[0m 186ms/step - accuracy: 0.9644 - loss: 0.1294\n",
            "Epoch 35/100\n",
            "\u001b[1m96/96\u001b[0m \u001b[32m━━━━━━━━━━━━━━━━━━━━\u001b[0m\u001b[37m\u001b[0m \u001b[1m23s\u001b[0m 216ms/step - accuracy: 0.9593 - loss: 0.1224\n",
            "Epoch 36/100\n",
            "\u001b[1m96/96\u001b[0m \u001b[32m━━━━━━━━━━━━━━━━━━━━\u001b[0m\u001b[37m\u001b[0m \u001b[1m40s\u001b[0m 206ms/step - accuracy: 0.9672 - loss: 0.1092\n",
            "Epoch 37/100\n",
            "\u001b[1m96/96\u001b[0m \u001b[32m━━━━━━━━━━━━━━━━━━━━\u001b[0m\u001b[37m\u001b[0m \u001b[1m19s\u001b[0m 190ms/step - accuracy: 0.9693 - loss: 0.0999\n",
            "Epoch 38/100\n",
            "\u001b[1m96/96\u001b[0m \u001b[32m━━━━━━━━━━━━━━━━━━━━\u001b[0m\u001b[37m\u001b[0m \u001b[1m22s\u001b[0m 205ms/step - accuracy: 0.9647 - loss: 0.1147\n",
            "Epoch 39/100\n",
            "\u001b[1m96/96\u001b[0m \u001b[32m━━━━━━━━━━━━━━━━━━━━\u001b[0m\u001b[37m\u001b[0m \u001b[1m19s\u001b[0m 188ms/step - accuracy: 0.9709 - loss: 0.0999\n",
            "Epoch 40/100\n",
            "\u001b[1m96/96\u001b[0m \u001b[32m━━━━━━━━━━━━━━━━━━━━\u001b[0m\u001b[37m\u001b[0m \u001b[1m22s\u001b[0m 205ms/step - accuracy: 0.9696 - loss: 0.0865\n",
            "Epoch 41/100\n",
            "\u001b[1m96/96\u001b[0m \u001b[32m━━━━━━━━━━━━━━━━━━━━\u001b[0m\u001b[37m\u001b[0m \u001b[1m19s\u001b[0m 190ms/step - accuracy: 0.9594 - loss: 0.1025\n",
            "Epoch 42/100\n",
            "\u001b[1m96/96\u001b[0m \u001b[32m━━━━━━━━━━━━━━━━━━━━\u001b[0m\u001b[37m\u001b[0m \u001b[1m19s\u001b[0m 199ms/step - accuracy: 0.9624 - loss: 0.1056\n",
            "Epoch 43/100\n",
            "\u001b[1m96/96\u001b[0m \u001b[32m━━━━━━━━━━━━━━━━━━━━\u001b[0m\u001b[37m\u001b[0m \u001b[1m19s\u001b[0m 185ms/step - accuracy: 0.9641 - loss: 0.1032\n",
            "Epoch 44/100\n",
            "\u001b[1m96/96\u001b[0m \u001b[32m━━━━━━━━━━━━━━━━━━━━\u001b[0m\u001b[37m\u001b[0m \u001b[1m18s\u001b[0m 188ms/step - accuracy: 0.9640 - loss: 0.0946\n",
            "Epoch 45/100\n",
            "\u001b[1m96/96\u001b[0m \u001b[32m━━━━━━━━━━━━━━━━━━━━\u001b[0m\u001b[37m\u001b[0m \u001b[1m21s\u001b[0m 189ms/step - accuracy: 0.9690 - loss: 0.0866\n",
            "Epoch 46/100\n",
            "\u001b[1m96/96\u001b[0m \u001b[32m━━━━━━━━━━━━━━━━━━━━\u001b[0m\u001b[37m\u001b[0m \u001b[1m21s\u001b[0m 192ms/step - accuracy: 0.9657 - loss: 0.0993\n",
            "Epoch 47/100\n",
            "\u001b[1m96/96\u001b[0m \u001b[32m━━━━━━━━━━━━━━━━━━━━\u001b[0m\u001b[37m\u001b[0m \u001b[1m20s\u001b[0m 190ms/step - accuracy: 0.9703 - loss: 0.0856\n",
            "Epoch 48/100\n",
            "\u001b[1m96/96\u001b[0m \u001b[32m━━━━━━━━━━━━━━━━━━━━\u001b[0m\u001b[37m\u001b[0m \u001b[1m18s\u001b[0m 193ms/step - accuracy: 0.9646 - loss: 0.0972\n",
            "Epoch 49/100\n",
            "\u001b[1m96/96\u001b[0m \u001b[32m━━━━━━━━━━━━━━━━━━━━\u001b[0m\u001b[37m\u001b[0m \u001b[1m20s\u001b[0m 191ms/step - accuracy: 0.9624 - loss: 0.1125\n",
            "Epoch 50/100\n",
            "\u001b[1m96/96\u001b[0m \u001b[32m━━━━━━━━━━━━━━━━━━━━\u001b[0m\u001b[37m\u001b[0m \u001b[1m22s\u001b[0m 203ms/step - accuracy: 0.9697 - loss: 0.0849\n",
            "Epoch 51/100\n",
            "\u001b[1m96/96\u001b[0m \u001b[32m━━━━━━━━━━━━━━━━━━━━\u001b[0m\u001b[37m\u001b[0m \u001b[1m19s\u001b[0m 193ms/step - accuracy: 0.9692 - loss: 0.0886\n",
            "Epoch 52/100\n",
            "\u001b[1m96/96\u001b[0m \u001b[32m━━━━━━━━━━━━━━━━━━━━\u001b[0m\u001b[37m\u001b[0m \u001b[1m22s\u001b[0m 209ms/step - accuracy: 0.9708 - loss: 0.0875\n",
            "Epoch 53/100\n",
            "\u001b[1m96/96\u001b[0m \u001b[32m━━━━━━━━━━━━━━━━━━━━\u001b[0m\u001b[37m\u001b[0m \u001b[1m18s\u001b[0m 189ms/step - accuracy: 0.9657 - loss: 0.0956\n",
            "Epoch 54/100\n",
            "\u001b[1m96/96\u001b[0m \u001b[32m━━━━━━━━━━━━━━━━━━━━\u001b[0m\u001b[37m\u001b[0m \u001b[1m22s\u001b[0m 203ms/step - accuracy: 0.9662 - loss: 0.1011\n",
            "Epoch 55/100\n",
            "\u001b[1m96/96\u001b[0m \u001b[32m━━━━━━━━━━━━━━━━━━━━\u001b[0m\u001b[37m\u001b[0m \u001b[1m20s\u001b[0m 196ms/step - accuracy: 0.9704 - loss: 0.0879\n",
            "Epoch 56/100\n",
            "\u001b[1m96/96\u001b[0m \u001b[32m━━━━━━━━━━━━━━━━━━━━\u001b[0m\u001b[37m\u001b[0m \u001b[1m22s\u001b[0m 213ms/step - accuracy: 0.9693 - loss: 0.1023\n",
            "Epoch 57/100\n",
            "\u001b[1m96/96\u001b[0m \u001b[32m━━━━━━━━━━━━━━━━━━━━\u001b[0m\u001b[37m\u001b[0m \u001b[1m18s\u001b[0m 188ms/step - accuracy: 0.9648 - loss: 0.1018\n",
            "Epoch 58/100\n",
            "\u001b[1m96/96\u001b[0m \u001b[32m━━━━━━━━━━━━━━━━━━━━\u001b[0m\u001b[37m\u001b[0m \u001b[1m18s\u001b[0m 191ms/step - accuracy: 0.9659 - loss: 0.0960\n",
            "Epoch 59/100\n",
            "\u001b[1m96/96\u001b[0m \u001b[32m━━━━━━━━━━━━━━━━━━━━\u001b[0m\u001b[37m\u001b[0m \u001b[1m21s\u001b[0m 191ms/step - accuracy: 0.9667 - loss: 0.0903\n",
            "Epoch 60/100\n",
            "\u001b[1m96/96\u001b[0m \u001b[32m━━━━━━━━━━━━━━━━━━━━\u001b[0m\u001b[37m\u001b[0m \u001b[1m18s\u001b[0m 191ms/step - accuracy: 0.9670 - loss: 0.0906\n",
            "Epoch 61/100\n",
            "\u001b[1m96/96\u001b[0m \u001b[32m━━━━━━━━━━━━━━━━━━━━\u001b[0m\u001b[37m\u001b[0m \u001b[1m21s\u001b[0m 197ms/step - accuracy: 0.9669 - loss: 0.0988\n",
            "Epoch 62/100\n",
            "\u001b[1m96/96\u001b[0m \u001b[32m━━━━━━━━━━━━━━━━━━━━\u001b[0m\u001b[37m\u001b[0m \u001b[1m20s\u001b[0m 196ms/step - accuracy: 0.9660 - loss: 0.0942\n",
            "Epoch 63/100\n",
            "\u001b[1m96/96\u001b[0m \u001b[32m━━━━━━━━━━━━━━━━━━━━\u001b[0m\u001b[37m\u001b[0m \u001b[1m20s\u001b[0m 192ms/step - accuracy: 0.9709 - loss: 0.0892\n",
            "Epoch 64/100\n",
            "\u001b[1m96/96\u001b[0m \u001b[32m━━━━━━━━━━━━━━━━━━━━\u001b[0m\u001b[37m\u001b[0m \u001b[1m18s\u001b[0m 189ms/step - accuracy: 0.9733 - loss: 0.0780\n",
            "Epoch 65/100\n",
            "\u001b[1m96/96\u001b[0m \u001b[32m━━━━━━━━━━━━━━━━━━━━\u001b[0m\u001b[37m\u001b[0m \u001b[1m21s\u001b[0m 192ms/step - accuracy: 0.9684 - loss: 0.0944\n",
            "Epoch 66/100\n",
            "\u001b[1m96/96\u001b[0m \u001b[32m━━━━━━━━━━━━━━━━━━━━\u001b[0m\u001b[37m\u001b[0m \u001b[1m18s\u001b[0m 189ms/step - accuracy: 0.9618 - loss: 0.0922\n",
            "Epoch 67/100\n",
            "\u001b[1m96/96\u001b[0m \u001b[32m━━━━━━━━━━━━━━━━━━━━\u001b[0m\u001b[37m\u001b[0m \u001b[1m21s\u001b[0m 193ms/step - accuracy: 0.9707 - loss: 0.0828\n",
            "Epoch 68/100\n",
            "\u001b[1m96/96\u001b[0m \u001b[32m━━━━━━━━━━━━━━━━━━━━\u001b[0m\u001b[37m\u001b[0m \u001b[1m18s\u001b[0m 190ms/step - accuracy: 0.9715 - loss: 0.0949\n",
            "Epoch 69/100\n",
            "\u001b[1m96/96\u001b[0m \u001b[32m━━━━━━━━━━━━━━━━━━━━\u001b[0m\u001b[37m\u001b[0m \u001b[1m21s\u001b[0m 196ms/step - accuracy: 0.9679 - loss: 0.1012\n",
            "Epoch 70/100\n",
            "\u001b[1m96/96\u001b[0m \u001b[32m━━━━━━━━━━━━━━━━━━━━\u001b[0m\u001b[37m\u001b[0m \u001b[1m20s\u001b[0m 188ms/step - accuracy: 0.8931 - loss: 0.4265\n",
            "Epoch 71/100\n",
            "\u001b[1m96/96\u001b[0m \u001b[32m━━━━━━━━━━━━━━━━━━━━\u001b[0m\u001b[37m\u001b[0m \u001b[1m20s\u001b[0m 187ms/step - accuracy: 0.3894 - loss: 3.3362\n",
            "Epoch 72/100\n",
            "\u001b[1m96/96\u001b[0m \u001b[32m━━━━━━━━━━━━━━━━━━━━\u001b[0m\u001b[37m\u001b[0m \u001b[1m18s\u001b[0m 193ms/step - accuracy: 0.5567 - loss: 1.9412\n",
            "Epoch 73/100\n",
            "\u001b[1m96/96\u001b[0m \u001b[32m━━━━━━━━━━━━━━━━━━━━\u001b[0m\u001b[37m\u001b[0m \u001b[1m21s\u001b[0m 196ms/step - accuracy: 0.7722 - loss: 0.8392\n",
            "Epoch 74/100\n",
            "\u001b[1m96/96\u001b[0m \u001b[32m━━━━━━━━━━━━━━━━━━━━\u001b[0m\u001b[37m\u001b[0m \u001b[1m19s\u001b[0m 199ms/step - accuracy: 0.8900 - loss: 0.4276\n",
            "Epoch 75/100\n",
            "\u001b[1m96/96\u001b[0m \u001b[32m━━━━━━━━━━━━━━━━━━━━\u001b[0m\u001b[37m\u001b[0m \u001b[1m20s\u001b[0m 212ms/step - accuracy: 0.9256 - loss: 0.2875\n",
            "Epoch 76/100\n",
            "\u001b[1m96/96\u001b[0m \u001b[32m━━━━━━━━━━━━━━━━━━━━\u001b[0m\u001b[37m\u001b[0m \u001b[1m18s\u001b[0m 190ms/step - accuracy: 0.9512 - loss: 0.2185\n",
            "Epoch 77/100\n",
            "\u001b[1m96/96\u001b[0m \u001b[32m━━━━━━━━━━━━━━━━━━━━\u001b[0m\u001b[37m\u001b[0m \u001b[1m22s\u001b[0m 210ms/step - accuracy: 0.9569 - loss: 0.1556\n",
            "Epoch 78/100\n",
            "\u001b[1m96/96\u001b[0m \u001b[32m━━━━━━━━━━━━━━━━━━━━\u001b[0m\u001b[37m\u001b[0m \u001b[1m19s\u001b[0m 192ms/step - accuracy: 0.9602 - loss: 0.1412\n",
            "Epoch 79/100\n",
            "\u001b[1m96/96\u001b[0m \u001b[32m━━━━━━━━━━━━━━━━━━━━\u001b[0m\u001b[37m\u001b[0m \u001b[1m22s\u001b[0m 210ms/step - accuracy: 0.9708 - loss: 0.1078\n",
            "Epoch 80/100\n",
            "\u001b[1m96/96\u001b[0m \u001b[32m━━━━━━━━━━━━━━━━━━━━\u001b[0m\u001b[37m\u001b[0m \u001b[1m19s\u001b[0m 190ms/step - accuracy: 0.9725 - loss: 0.1016\n",
            "Epoch 81/100\n",
            "\u001b[1m96/96\u001b[0m \u001b[32m━━━━━━━━━━━━━━━━━━━━\u001b[0m\u001b[37m\u001b[0m \u001b[1m22s\u001b[0m 207ms/step - accuracy: 0.9605 - loss: 0.1346\n",
            "Epoch 82/100\n",
            "\u001b[1m96/96\u001b[0m \u001b[32m━━━━━━━━━━━━━━━━━━━━\u001b[0m\u001b[37m\u001b[0m \u001b[1m19s\u001b[0m 191ms/step - accuracy: 0.9704 - loss: 0.1016\n",
            "Epoch 83/100\n",
            "\u001b[1m96/96\u001b[0m \u001b[32m━━━━━━━━━━━━━━━━━━━━\u001b[0m\u001b[37m\u001b[0m \u001b[1m22s\u001b[0m 207ms/step - accuracy: 0.9657 - loss: 0.1156\n",
            "Epoch 84/100\n",
            "\u001b[1m96/96\u001b[0m \u001b[32m━━━━━━━━━━━━━━━━━━━━\u001b[0m\u001b[37m\u001b[0m \u001b[1m19s\u001b[0m 193ms/step - accuracy: 0.9605 - loss: 0.1243\n",
            "Epoch 85/100\n",
            "\u001b[1m96/96\u001b[0m \u001b[32m━━━━━━━━━━━━━━━━━━━━\u001b[0m\u001b[37m\u001b[0m \u001b[1m22s\u001b[0m 212ms/step - accuracy: 0.9615 - loss: 0.1177\n",
            "Epoch 86/100\n",
            "\u001b[1m96/96\u001b[0m \u001b[32m━━━━━━━━━━━━━━━━━━━━\u001b[0m\u001b[37m\u001b[0m \u001b[1m19s\u001b[0m 192ms/step - accuracy: 0.9706 - loss: 0.1002\n",
            "Epoch 87/100\n",
            "\u001b[1m96/96\u001b[0m \u001b[32m━━━━━━━━━━━━━━━━━━━━\u001b[0m\u001b[37m\u001b[0m \u001b[1m22s\u001b[0m 206ms/step - accuracy: 0.9710 - loss: 0.1023\n",
            "Epoch 88/100\n",
            "\u001b[1m96/96\u001b[0m \u001b[32m━━━━━━━━━━━━━━━━━━━━\u001b[0m\u001b[37m\u001b[0m \u001b[1m19s\u001b[0m 188ms/step - accuracy: 0.9727 - loss: 0.0895\n",
            "Epoch 89/100\n",
            "\u001b[1m96/96\u001b[0m \u001b[32m━━━━━━━━━━━━━━━━━━━━\u001b[0m\u001b[37m\u001b[0m \u001b[1m22s\u001b[0m 204ms/step - accuracy: 0.9625 - loss: 0.1179\n",
            "Epoch 90/100\n",
            "\u001b[1m96/96\u001b[0m \u001b[32m━━━━━━━━━━━━━━━━━━━━\u001b[0m\u001b[37m\u001b[0m \u001b[1m18s\u001b[0m 187ms/step - accuracy: 0.9679 - loss: 0.1059\n",
            "Epoch 91/100\n",
            "\u001b[1m96/96\u001b[0m \u001b[32m━━━━━━━━━━━━━━━━━━━━\u001b[0m\u001b[37m\u001b[0m \u001b[1m18s\u001b[0m 187ms/step - accuracy: 0.9639 - loss: 0.1305\n",
            "Epoch 92/100\n",
            "\u001b[1m96/96\u001b[0m \u001b[32m━━━━━━━━━━━━━━━━━━━━\u001b[0m\u001b[37m\u001b[0m \u001b[1m20s\u001b[0m 206ms/step - accuracy: 0.9648 - loss: 0.1181\n",
            "Epoch 93/100\n",
            "\u001b[1m96/96\u001b[0m \u001b[32m━━━━━━━━━━━━━━━━━━━━\u001b[0m\u001b[37m\u001b[0m \u001b[1m18s\u001b[0m 190ms/step - accuracy: 0.9649 - loss: 0.1032\n",
            "Epoch 94/100\n",
            "\u001b[1m96/96\u001b[0m \u001b[32m━━━━━━━━━━━━━━━━━━━━\u001b[0m\u001b[37m\u001b[0m \u001b[1m22s\u001b[0m 205ms/step - accuracy: 0.9621 - loss: 0.1153\n",
            "Epoch 95/100\n",
            "\u001b[1m96/96\u001b[0m \u001b[32m━━━━━━━━━━━━━━━━━━━━\u001b[0m\u001b[37m\u001b[0m \u001b[1m19s\u001b[0m 189ms/step - accuracy: 0.9762 - loss: 0.0802\n",
            "Epoch 96/100\n",
            "\u001b[1m96/96\u001b[0m \u001b[32m━━━━━━━━━━━━━━━━━━━━\u001b[0m\u001b[37m\u001b[0m \u001b[1m19s\u001b[0m 199ms/step - accuracy: 0.9667 - loss: 0.1013\n",
            "Epoch 97/100\n",
            "\u001b[1m96/96\u001b[0m \u001b[32m━━━━━━━━━━━━━━━━━━━━\u001b[0m\u001b[37m\u001b[0m \u001b[1m19s\u001b[0m 189ms/step - accuracy: 0.9738 - loss: 0.0885\n",
            "Epoch 98/100\n",
            "\u001b[1m96/96\u001b[0m \u001b[32m━━━━━━━━━━━━━━━━━━━━\u001b[0m\u001b[37m\u001b[0m \u001b[1m22s\u001b[0m 205ms/step - accuracy: 0.9653 - loss: 0.1171\n",
            "Epoch 99/100\n",
            "\u001b[1m96/96\u001b[0m \u001b[32m━━━━━━━━━━━━━━━━━━━━\u001b[0m\u001b[37m\u001b[0m \u001b[1m19s\u001b[0m 189ms/step - accuracy: 0.9640 - loss: 0.1185\n",
            "Epoch 100/100\n",
            "\u001b[1m96/96\u001b[0m \u001b[32m━━━━━━━━━━━━━━━━━━━━\u001b[0m\u001b[37m\u001b[0m \u001b[1m18s\u001b[0m 189ms/step - accuracy: 0.9667 - loss: 0.1107\n",
            "<Sequential name=sequential_2, built=True>\n"
          ]
        }
      ],
      "source": [
        "model = Sequential()\n",
        "model.add(Embedding(total_words, 240))\n",
        "model.add(Bidirectional(LSTM(150)))\n",
        "model.add(Dense(total_words, activation='softmax'))\n",
        "adam = Adam(learning_rate=0.01)\n",
        "model.compile(loss='categorical_crossentropy', optimizer=adam, metrics=['accuracy'])\n",
        "earlystop = EarlyStopping(monitor='val_loss', min_delta=0, patience=5, verbose=0, mode='auto')\n",
        "history = model.fit(xs, ys, epochs=100, verbose=1, callbacks=[earlystop])\n",
        "print(model)"
      ]
    },
    {
      "cell_type": "code",
      "source": [
        "model.summary()"
      ],
      "metadata": {
        "colab": {
          "base_uri": "https://localhost:8080/",
          "height": 255
        },
        "id": "lpnZNlTnWesQ",
        "outputId": "3ae4ec66-07bb-4261-fa02-2e8bb2f6fb58"
      },
      "execution_count": 9,
      "outputs": [
        {
          "output_type": "display_data",
          "data": {
            "text/plain": [
              "\u001b[1mModel: \"sequential_2\"\u001b[0m\n"
            ],
            "text/html": [
              "<pre style=\"white-space:pre;overflow-x:auto;line-height:normal;font-family:Menlo,'DejaVu Sans Mono',consolas,'Courier New',monospace\"><span style=\"font-weight: bold\">Model: \"sequential_2\"</span>\n",
              "</pre>\n"
            ]
          },
          "metadata": {}
        },
        {
          "output_type": "display_data",
          "data": {
            "text/plain": [
              "┏━━━━━━━━━━━━━━━━━━━━━━━━━━━━━━━━━━━━━━┳━━━━━━━━━━━━━━━━━━━━━━━━━━━━━┳━━━━━━━━━━━━━━━━━┓\n",
              "┃\u001b[1m \u001b[0m\u001b[1mLayer (type)                        \u001b[0m\u001b[1m \u001b[0m┃\u001b[1m \u001b[0m\u001b[1mOutput Shape               \u001b[0m\u001b[1m \u001b[0m┃\u001b[1m \u001b[0m\u001b[1m        Param #\u001b[0m\u001b[1m \u001b[0m┃\n",
              "┡━━━━━━━━━━━━━━━━━━━━━━━━━━━━━━━━━━━━━━╇━━━━━━━━━━━━━━━━━━━━━━━━━━━━━╇━━━━━━━━━━━━━━━━━┩\n",
              "│ embedding_2 (\u001b[38;5;33mEmbedding\u001b[0m)              │ (\u001b[38;5;45mNone\u001b[0m, \u001b[38;5;34m44\u001b[0m, \u001b[38;5;34m240\u001b[0m)             │         \u001b[38;5;34m248,880\u001b[0m │\n",
              "├──────────────────────────────────────┼─────────────────────────────┼─────────────────┤\n",
              "│ bidirectional_2 (\u001b[38;5;33mBidirectional\u001b[0m)      │ (\u001b[38;5;45mNone\u001b[0m, \u001b[38;5;34m300\u001b[0m)                 │         \u001b[38;5;34m469,200\u001b[0m │\n",
              "├──────────────────────────────────────┼─────────────────────────────┼─────────────────┤\n",
              "│ dense_2 (\u001b[38;5;33mDense\u001b[0m)                      │ (\u001b[38;5;45mNone\u001b[0m, \u001b[38;5;34m1037\u001b[0m)                │         \u001b[38;5;34m312,137\u001b[0m │\n",
              "└──────────────────────────────────────┴─────────────────────────────┴─────────────────┘\n"
            ],
            "text/html": [
              "<pre style=\"white-space:pre;overflow-x:auto;line-height:normal;font-family:Menlo,'DejaVu Sans Mono',consolas,'Courier New',monospace\">┏━━━━━━━━━━━━━━━━━━━━━━━━━━━━━━━━━━━━━━┳━━━━━━━━━━━━━━━━━━━━━━━━━━━━━┳━━━━━━━━━━━━━━━━━┓\n",
              "┃<span style=\"font-weight: bold\"> Layer (type)                         </span>┃<span style=\"font-weight: bold\"> Output Shape                </span>┃<span style=\"font-weight: bold\">         Param # </span>┃\n",
              "┡━━━━━━━━━━━━━━━━━━━━━━━━━━━━━━━━━━━━━━╇━━━━━━━━━━━━━━━━━━━━━━━━━━━━━╇━━━━━━━━━━━━━━━━━┩\n",
              "│ embedding_2 (<span style=\"color: #0087ff; text-decoration-color: #0087ff\">Embedding</span>)              │ (<span style=\"color: #00d7ff; text-decoration-color: #00d7ff\">None</span>, <span style=\"color: #00af00; text-decoration-color: #00af00\">44</span>, <span style=\"color: #00af00; text-decoration-color: #00af00\">240</span>)             │         <span style=\"color: #00af00; text-decoration-color: #00af00\">248,880</span> │\n",
              "├──────────────────────────────────────┼─────────────────────────────┼─────────────────┤\n",
              "│ bidirectional_2 (<span style=\"color: #0087ff; text-decoration-color: #0087ff\">Bidirectional</span>)      │ (<span style=\"color: #00d7ff; text-decoration-color: #00d7ff\">None</span>, <span style=\"color: #00af00; text-decoration-color: #00af00\">300</span>)                 │         <span style=\"color: #00af00; text-decoration-color: #00af00\">469,200</span> │\n",
              "├──────────────────────────────────────┼─────────────────────────────┼─────────────────┤\n",
              "│ dense_2 (<span style=\"color: #0087ff; text-decoration-color: #0087ff\">Dense</span>)                      │ (<span style=\"color: #00d7ff; text-decoration-color: #00d7ff\">None</span>, <span style=\"color: #00af00; text-decoration-color: #00af00\">1037</span>)                │         <span style=\"color: #00af00; text-decoration-color: #00af00\">312,137</span> │\n",
              "└──────────────────────────────────────┴─────────────────────────────┴─────────────────┘\n",
              "</pre>\n"
            ]
          },
          "metadata": {}
        },
        {
          "output_type": "display_data",
          "data": {
            "text/plain": [
              "\u001b[1m Total params: \u001b[0m\u001b[38;5;34m3,090,653\u001b[0m (11.79 MB)\n"
            ],
            "text/html": [
              "<pre style=\"white-space:pre;overflow-x:auto;line-height:normal;font-family:Menlo,'DejaVu Sans Mono',consolas,'Courier New',monospace\"><span style=\"font-weight: bold\"> Total params: </span><span style=\"color: #00af00; text-decoration-color: #00af00\">3,090,653</span> (11.79 MB)\n",
              "</pre>\n"
            ]
          },
          "metadata": {}
        },
        {
          "output_type": "display_data",
          "data": {
            "text/plain": [
              "\u001b[1m Trainable params: \u001b[0m\u001b[38;5;34m1,030,217\u001b[0m (3.93 MB)\n"
            ],
            "text/html": [
              "<pre style=\"white-space:pre;overflow-x:auto;line-height:normal;font-family:Menlo,'DejaVu Sans Mono',consolas,'Courier New',monospace\"><span style=\"font-weight: bold\"> Trainable params: </span><span style=\"color: #00af00; text-decoration-color: #00af00\">1,030,217</span> (3.93 MB)\n",
              "</pre>\n"
            ]
          },
          "metadata": {}
        },
        {
          "output_type": "display_data",
          "data": {
            "text/plain": [
              "\u001b[1m Non-trainable params: \u001b[0m\u001b[38;5;34m0\u001b[0m (0.00 B)\n"
            ],
            "text/html": [
              "<pre style=\"white-space:pre;overflow-x:auto;line-height:normal;font-family:Menlo,'DejaVu Sans Mono',consolas,'Courier New',monospace\"><span style=\"font-weight: bold\"> Non-trainable params: </span><span style=\"color: #00af00; text-decoration-color: #00af00\">0</span> (0.00 B)\n",
              "</pre>\n"
            ]
          },
          "metadata": {}
        },
        {
          "output_type": "display_data",
          "data": {
            "text/plain": [
              "\u001b[1m Optimizer params: \u001b[0m\u001b[38;5;34m2,060,436\u001b[0m (7.86 MB)\n"
            ],
            "text/html": [
              "<pre style=\"white-space:pre;overflow-x:auto;line-height:normal;font-family:Menlo,'DejaVu Sans Mono',consolas,'Courier New',monospace\"><span style=\"font-weight: bold\"> Optimizer params: </span><span style=\"color: #00af00; text-decoration-color: #00af00\">2,060,436</span> (7.86 MB)\n",
              "</pre>\n"
            ]
          },
          "metadata": {}
        }
      ]
    },
    {
      "cell_type": "code",
      "execution_count": 10,
      "metadata": {
        "id": "imdFbvpyj33j"
      },
      "outputs": [],
      "source": [
        "def plot_graphs(history, string):\n",
        "  plt.plot(history.history[string])\n",
        "  plt.xlabel(\"Epochs\")\n",
        "  plt.ylabel(string)\n",
        "  plt.show()"
      ]
    },
    {
      "cell_type": "code",
      "execution_count": 11,
      "metadata": {
        "colab": {
          "base_uri": "https://localhost:8080/",
          "height": 450
        },
        "id": "9txVEgPej5XA",
        "outputId": "730cd792-8224-41f7-b299-8aed98e56ca9"
      },
      "outputs": [
        {
          "output_type": "display_data",
          "data": {
            "text/plain": [
              "<Figure size 640x480 with 1 Axes>"
            ],
            "image/png": "[encoded data removed]"
          },
          "metadata": {}
        }
      ],
      "source": [
        "plot_graphs(history, 'accuracy')"
      ]
    },
    {
      "cell_type": "code",
      "execution_count": 12,
      "metadata": {
        "colab": {
          "base_uri": "https://localhost:8080/"
        },
        "id": "-v0TQaMOj7AC",
        "outputId": "4baf60c6-70d9-4b40-d56d-d1294ff98c83"
      },
      "outputs": [
        {
          "output_type": "stream",
          "name": "stdout",
          "text": [
            "\u001b[1m1/1\u001b[0m \u001b[32m━━━━━━━━━━━━━━━━━━━━\u001b[0m\u001b[37m\u001b[0m \u001b[1m1s\u001b[0m 534ms/step\n",
            "\u001b[1m1/1\u001b[0m \u001b[32m━━━━━━━━━━━━━━━━━━━━\u001b[0m\u001b[37m\u001b[0m \u001b[1m0s\u001b[0m 87ms/step\n",
            "\u001b[1m1/1\u001b[0m \u001b[32m━━━━━━━━━━━━━━━━━━━━\u001b[0m\u001b[37m\u001b[0m \u001b[1m0s\u001b[0m 65ms/step\n",
            "\u001b[1m1/1\u001b[0m \u001b[32m━━━━━━━━━━━━━━━━━━━━\u001b[0m\u001b[37m\u001b[0m \u001b[1m0s\u001b[0m 63ms/step\n",
            "\u001b[1m1/1\u001b[0m \u001b[32m━━━━━━━━━━━━━━━━━━━━\u001b[0m\u001b[37m\u001b[0m \u001b[1m0s\u001b[0m 153ms/step\n",
            "\u001b[1m1/1\u001b[0m \u001b[32m━━━━━━━━━━━━━━━━━━━━\u001b[0m\u001b[37m\u001b[0m \u001b[1m0s\u001b[0m 76ms/step\n",
            "\u001b[1m1/1\u001b[0m \u001b[32m━━━━━━━━━━━━━━━━━━━━\u001b[0m\u001b[37m\u001b[0m \u001b[1m0s\u001b[0m 63ms/step\n",
            "\u001b[1m1/1\u001b[0m \u001b[32m━━━━━━━━━━━━━━━━━━━━\u001b[0m\u001b[37m\u001b[0m \u001b[1m0s\u001b[0m 112ms/step\n",
            "\u001b[1m1/1\u001b[0m \u001b[32m━━━━━━━━━━━━━━━━━━━━\u001b[0m\u001b[37m\u001b[0m \u001b[1m0s\u001b[0m 95ms/step\n",
            "\u001b[1m1/1\u001b[0m \u001b[32m━━━━━━━━━━━━━━━━━━━━\u001b[0m\u001b[37m\u001b[0m \u001b[1m0s\u001b[0m 159ms/step\n",
            "\u001b[1m1/1\u001b[0m \u001b[32m━━━━━━━━━━━━━━━━━━━━\u001b[0m\u001b[37m\u001b[0m \u001b[1m0s\u001b[0m 34ms/step\n",
            "\u001b[1m1/1\u001b[0m \u001b[32m━━━━━━━━━━━━━━━━━━━━\u001b[0m\u001b[37m\u001b[0m \u001b[1m0s\u001b[0m 34ms/step\n",
            "\u001b[1m1/1\u001b[0m \u001b[32m━━━━━━━━━━━━━━━━━━━━\u001b[0m\u001b[37m\u001b[0m \u001b[1m0s\u001b[0m 34ms/step\n",
            "\u001b[1m1/1\u001b[0m \u001b[32m━━━━━━━━━━━━━━━━━━━━\u001b[0m\u001b[37m\u001b[0m \u001b[1m0s\u001b[0m 37ms/step\n",
            "\u001b[1m1/1\u001b[0m \u001b[32m━━━━━━━━━━━━━━━━━━━━\u001b[0m\u001b[37m\u001b[0m \u001b[1m0s\u001b[0m 35ms/step\n",
            "\u001b[1m1/1\u001b[0m \u001b[32m━━━━━━━━━━━━━━━━━━━━\u001b[0m\u001b[37m\u001b[0m \u001b[1m0s\u001b[0m 33ms/step\n",
            "\u001b[1m1/1\u001b[0m \u001b[32m━━━━━━━━━━━━━━━━━━━━\u001b[0m\u001b[37m\u001b[0m \u001b[1m0s\u001b[0m 40ms/step\n",
            "\u001b[1m1/1\u001b[0m \u001b[32m━━━━━━━━━━━━━━━━━━━━\u001b[0m\u001b[37m\u001b[0m \u001b[1m0s\u001b[0m 35ms/step\n",
            "\u001b[1m1/1\u001b[0m \u001b[32m━━━━━━━━━━━━━━━━━━━━\u001b[0m\u001b[37m\u001b[0m \u001b[1m0s\u001b[0m 34ms/step\n",
            "\u001b[1m1/1\u001b[0m \u001b[32m━━━━━━━━━━━━━━━━━━━━\u001b[0m\u001b[37m\u001b[0m \u001b[1m0s\u001b[0m 34ms/step\n",
            "\u001b[1m1/1\u001b[0m \u001b[32m━━━━━━━━━━━━━━━━━━━━\u001b[0m\u001b[37m\u001b[0m \u001b[1m0s\u001b[0m 32ms/step\n",
            "\u001b[1m1/1\u001b[0m \u001b[32m━━━━━━━━━━━━━━━━━━━━\u001b[0m\u001b[37m\u001b[0m \u001b[1m0s\u001b[0m 40ms/step\n",
            "\u001b[1m1/1\u001b[0m \u001b[32m━━━━━━━━━━━━━━━━━━━━\u001b[0m\u001b[37m\u001b[0m \u001b[1m0s\u001b[0m 35ms/step\n",
            "\u001b[1m1/1\u001b[0m \u001b[32m━━━━━━━━━━━━━━━━━━━━\u001b[0m\u001b[37m\u001b[0m \u001b[1m0s\u001b[0m 34ms/step\n",
            "\u001b[1m1/1\u001b[0m \u001b[32m━━━━━━━━━━━━━━━━━━━━\u001b[0m\u001b[37m\u001b[0m \u001b[1m0s\u001b[0m 36ms/step\n",
            "\u001b[1m1/1\u001b[0m \u001b[32m━━━━━━━━━━━━━━━━━━━━\u001b[0m\u001b[37m\u001b[0m \u001b[1m0s\u001b[0m 35ms/step\n",
            "\u001b[1m1/1\u001b[0m \u001b[32m━━━━━━━━━━━━━━━━━━━━\u001b[0m\u001b[37m\u001b[0m \u001b[1m0s\u001b[0m 35ms/step\n",
            "\u001b[1m1/1\u001b[0m \u001b[32m━━━━━━━━━━━━━━━━━━━━\u001b[0m\u001b[37m\u001b[0m \u001b[1m0s\u001b[0m 42ms/step\n",
            "\u001b[1m1/1\u001b[0m \u001b[32m━━━━━━━━━━━━━━━━━━━━\u001b[0m\u001b[37m\u001b[0m \u001b[1m0s\u001b[0m 35ms/step\n",
            "\u001b[1m1/1\u001b[0m \u001b[32m━━━━━━━━━━━━━━━━━━━━\u001b[0m\u001b[37m\u001b[0m \u001b[1m0s\u001b[0m 35ms/step\n",
            "\u001b[1m1/1\u001b[0m \u001b[32m━━━━━━━━━━━━━━━━━━━━\u001b[0m\u001b[37m\u001b[0m \u001b[1m0s\u001b[0m 32ms/step\n",
            "\u001b[1m1/1\u001b[0m \u001b[32m━━━━━━━━━━━━━━━━━━━━\u001b[0m\u001b[37m\u001b[0m \u001b[1m0s\u001b[0m 51ms/step\n",
            "\u001b[1m1/1\u001b[0m \u001b[32m━━━━━━━━━━━━━━━━━━━━\u001b[0m\u001b[37m\u001b[0m \u001b[1m0s\u001b[0m 33ms/step\n",
            "\u001b[1m1/1\u001b[0m \u001b[32m━━━━━━━━━━━━━━━━━━━━\u001b[0m\u001b[37m\u001b[0m \u001b[1m0s\u001b[0m 36ms/step\n",
            "\u001b[1m1/1\u001b[0m \u001b[32m━━━━━━━━━━━━━━━━━━━━\u001b[0m\u001b[37m\u001b[0m \u001b[1m0s\u001b[0m 33ms/step\n",
            "\u001b[1m1/1\u001b[0m \u001b[32m━━━━━━━━━━━━━━━━━━━━\u001b[0m\u001b[37m\u001b[0m \u001b[1m0s\u001b[0m 35ms/step\n",
            "\u001b[1m1/1\u001b[0m \u001b[32m━━━━━━━━━━━━━━━━━━━━\u001b[0m\u001b[37m\u001b[0m \u001b[1m0s\u001b[0m 48ms/step\n",
            "\u001b[1m1/1\u001b[0m \u001b[32m━━━━━━━━━━━━━━━━━━━━\u001b[0m\u001b[37m\u001b[0m \u001b[1m0s\u001b[0m 49ms/step\n",
            "\u001b[1m1/1\u001b[0m \u001b[32m━━━━━━━━━━━━━━━━━━━━\u001b[0m\u001b[37m\u001b[0m \u001b[1m0s\u001b[0m 35ms/step\n",
            "\u001b[1m1/1\u001b[0m \u001b[32m━━━━━━━━━━━━━━━━━━━━\u001b[0m\u001b[37m\u001b[0m \u001b[1m0s\u001b[0m 37ms/step\n",
            "\u001b[1m1/1\u001b[0m \u001b[32m━━━━━━━━━━━━━━━━━━━━\u001b[0m\u001b[37m\u001b[0m \u001b[1m0s\u001b[0m 39ms/step\n",
            "\u001b[1m1/1\u001b[0m \u001b[32m━━━━━━━━━━━━━━━━━━━━\u001b[0m\u001b[37m\u001b[0m \u001b[1m0s\u001b[0m 33ms/step\n",
            "\u001b[1m1/1\u001b[0m \u001b[32m━━━━━━━━━━━━━━━━━━━━\u001b[0m\u001b[37m\u001b[0m \u001b[1m0s\u001b[0m 48ms/step\n",
            "\u001b[1m1/1\u001b[0m \u001b[32m━━━━━━━━━━━━━━━━━━━━\u001b[0m\u001b[37m\u001b[0m \u001b[1m0s\u001b[0m 33ms/step\n",
            "\u001b[1m1/1\u001b[0m \u001b[32m━━━━━━━━━━━━━━━━━━━━\u001b[0m\u001b[37m\u001b[0m \u001b[1m0s\u001b[0m 32ms/step\n",
            "\u001b[1m1/1\u001b[0m \u001b[32m━━━━━━━━━━━━━━━━━━━━\u001b[0m\u001b[37m\u001b[0m \u001b[1m0s\u001b[0m 34ms/step\n",
            "\u001b[1m1/1\u001b[0m \u001b[32m━━━━━━━━━━━━━━━━━━━━\u001b[0m\u001b[37m\u001b[0m \u001b[1m0s\u001b[0m 35ms/step\n",
            "\u001b[1m1/1\u001b[0m \u001b[32m━━━━━━━━━━━━━━━━━━━━\u001b[0m\u001b[37m\u001b[0m \u001b[1m0s\u001b[0m 35ms/step\n",
            "\u001b[1m1/1\u001b[0m \u001b[32m━━━━━━━━━━━━━━━━━━━━\u001b[0m\u001b[37m\u001b[0m \u001b[1m0s\u001b[0m 42ms/step\n",
            "\u001b[1m1/1\u001b[0m \u001b[32m━━━━━━━━━━━━━━━━━━━━\u001b[0m\u001b[37m\u001b[0m \u001b[1m0s\u001b[0m 35ms/step\n",
            "Patients with mps i may share symptoms with many other often more common diseases – rule it out in your differential diagnosis in 40 mps i is frequently misdiagnosed and under diagnosed which leads to many referrals between specialities serious serious respiratory and in some unusual manifestations rhabdomyolysis and myocarditis treatment involves\n"
          ]
        }
      ],
      "source": [
        "seed_text = \"Patients with\"\n",
        "next_words = 50\n",
        "\n",
        "for _ in range(next_words):\n",
        "\ttoken_list = tokenizer.texts_to_sequences([seed_text])[0]\n",
        "\ttoken_list = pad_sequences([token_list], maxlen=max_sequence_len-1, padding='pre')\n",
        "\tpredicted = np.argmax(model.predict(token_list), axis=-1)\n",
        "\toutput_word = \"\"\n",
        "\tfor word, index in tokenizer.word_index.items():\n",
        "\t\tif index == predicted:\n",
        "\t\t\toutput_word = word\n",
        "\t\t\tbreak\n",
        "\tseed_text += \" \" + output_word\n",
        "print(seed_text)"
      ]
    },
    {
      "cell_type": "code",
      "source": [
        "model.save(\"article_generator_model.keras\")"
      ],
      "metadata": {
        "id": "srZ0VUgGgAnk"
      },
      "execution_count": 13,
      "outputs": []
    }
  ],
  "metadata": {
    "colab": {
      "provenance": []
    },
    "kernelspec": {
      "display_name": "Python 3",
      "name": "python3"
    },
    "language_info": {
      "name": "python"
    }
  },
  "nbformat": 4,
  "nbformat_minor": 0
}